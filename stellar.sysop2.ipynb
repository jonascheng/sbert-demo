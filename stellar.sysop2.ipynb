{
 "cells": [
  {
   "cell_type": "code",
   "execution_count": null,
   "metadata": {},
   "outputs": [],
   "source": [
    "%pip install -r requirements.txt -q"
   ]
  },
  {
   "cell_type": "code",
   "execution_count": null,
   "metadata": {},
   "outputs": [],
   "source": [
    "import json\n",
    "import numpy as np\n",
    "import plotly.express as px\n",
    "from sentence_transformers import SentenceTransformer\n",
    "from sklearn.manifold import TSNE\n",
    "import chromadb\n",
    "from pprint import pprint"
   ]
  },
  {
   "cell_type": "code",
   "execution_count": null,
   "metadata": {},
   "outputs": [],
   "source": [
    "# load the csv files with numpy\n",
    "baseline_file = 'assets/552466d6-7728-11ee-b936-00505696604e-sysop-baseline-createprocess-only-enabled.csv'\n",
    "baseline_data = np.loadtxt(\n",
    "    baseline_file, delimiter=',', dtype=str,\n",
    "    # max_rows=10,\n",
    "    skiprows=1,\n",
    "    usecols=(1, 4, 5)\n",
    "    )\n",
    "\n",
    "#pprint(baseline_data)\n",
    "pprint(baseline_data.shape)\n"
   ]
  },
  {
   "cell_type": "markdown",
   "metadata": {},
   "source": []
  },
  {
   "cell_type": "code",
   "execution_count": null,
   "metadata": {},
   "outputs": [],
   "source": [
    "alert_file = 'assets/218b4360-d459-11ee-8308-0050569a682f-sysop-alerts-createprocess.csv'\n",
    "alert_data = np.loadtxt(\n",
    "    alert_file, delimiter=',', dtype=str,\n",
    "    # max_rows=10,\n",
    "    skiprows=1,\n",
    "    usecols=(3, 7, 8)\n",
    "    )\n",
    "\n",
    "# switch the columns vendorname and productname\n",
    "alert_data[:, 1], alert_data[:, 2] = alert_data[:, 2], alert_data[:, 1].copy()\n",
    "\n",
    "# rename file to path, productname to appname, vendorname to vendor\n",
    "alert_data[:, 0] = np.char.replace(alert_data[:, 0], 'file', 'path')\n",
    "alert_data[:, 1] = np.char.replace(alert_data[:, 1], 'productname', 'appname')\n",
    "alert_data[:, 2] = np.char.replace(alert_data[:, 2], 'vendorname', 'vendor')\n",
    "\n",
    "#pprint(alert_data)\n",
    "pprint(alert_data.shape)"
   ]
  },
  {
   "cell_type": "code",
   "execution_count": null,
   "metadata": {},
   "outputs": [],
   "source": [
    "# normalize the data by lowercasing and removing punctuation\n",
    "def normalize_data(data):\n",
    "    return np.array([[\n",
    "        x[0].lower().replace('.', '').replace(',', ''),\n",
    "        x[1].lower().replace('.', '').replace(',', ''),\n",
    "        x[2].lower().replace('.', '').replace(',', '')\n",
    "    ] for x in data])\n",
    "\n",
    "# remove well-known vendors\n",
    "def remove_well_known_vendor(data):\n",
    "    well_known_vendors = [\n",
    "        'microsoft',\n",
    "        'microsoft corp',\n",
    "        'microsoft corp.',\n",
    "        'microsoft corporation',\n",
    "        'apple',\n",
    "        'google llc',\n",
    "        'google llc.',\n",
    "        'intel® corporation',\n",
    "        'intel corporation']\n",
    "\n",
    "    return np.array([x for x in data if x[2] not in well_known_vendors])\n",
    "\n",
    "baseline_data = normalize_data(baseline_data)\n",
    "baseline_data = remove_well_known_vendor(baseline_data)\n",
    "pprint(baseline_data)\n",
    "\n",
    "alert_data = normalize_data(alert_data)\n",
    "alert_data = remove_well_known_vendor(alert_data)\n",
    "pprint(alert_data)"
   ]
  },
  {
   "cell_type": "code",
   "execution_count": null,
   "metadata": {},
   "outputs": [],
   "source": [
    "# concatenate 3 columns into 1 column\n",
    "flat_baseline_data = np.array([' '.join(x) for x in baseline_data])\n",
    "flat_alert_data = np.array([' '.join(x) for x in alert_data])\n",
    "\n",
    "# take only the first column\n",
    "# flat_baseline_data = baseline_data[:, 0]\n",
    "# flat_alert_data = alert_data[:, 0]\n",
    "\n",
    "pprint(flat_baseline_data.shape)\n",
    "pprint(flat_alert_data.shape)\n",
    "\n",
    "# remove duplicates\n",
    "flat_baseline_data = np.unique(flat_baseline_data)\n",
    "flat_alert_data = np.unique(flat_alert_data)\n",
    "\n",
    "pprint(flat_baseline_data.shape)\n",
    "pprint(flat_alert_data.shape)"
   ]
  },
  {
   "cell_type": "code",
   "execution_count": null,
   "metadata": {},
   "outputs": [],
   "source": [
    "# Load the pre-trained model\n",
    "model = SentenceTransformer('all-MiniLM-L6-v2')\n"
   ]
  },
  {
   "cell_type": "code",
   "execution_count": null,
   "metadata": {},
   "outputs": [],
   "source": [
    "baseline_embeddings = model.encode(flat_baseline_data)\n",
    "alert_embeddings = model.encode(flat_alert_data)\n",
    "\n",
    "pprint(baseline_embeddings.shape)\n",
    "pprint(alert_embeddings.shape)\n",
    "\n",
    "# combine embeddings in single array\n",
    "embeddings = np.concatenate((baseline_embeddings, alert_embeddings))\n"
   ]
  },
  {
   "cell_type": "code",
   "execution_count": null,
   "metadata": {},
   "outputs": [],
   "source": [
    "# Perform TSNE to reduce to 3 components\n",
    "tsne_model = TSNE(n_components=3, random_state=42)\n",
    "tsne_embeddings_values = tsne_model.fit_transform(embeddings)\n",
    "\n",
    "hover_names = []\n",
    "colors = []\n",
    "\n",
    "# baseline data\n",
    "for baseline in flat_baseline_data:\n",
    "    hover_names.append(baseline)\n",
    "    colors.append('baseline')\n",
    "# alert data\n",
    "for alert in flat_alert_data:\n",
    "    hover_names.append(alert)\n",
    "    colors.append('alert')\n",
    "\n",
    "fig = px.scatter_3d(\n",
    "    x = tsne_embeddings_values[:,0],\n",
    "    y = tsne_embeddings_values[:,1],\n",
    "    z = tsne_embeddings_values[:,2],\n",
    "    hover_name=hover_names,\n",
    "    color = colors,\n",
    ")\n",
    "\n",
    "fig.update_traces(marker=dict(size=3))  # Increase the marker size uniformly\n",
    "\n",
    "fig.update_layout(\n",
    "    scene=dict(\n",
    "        xaxis=dict(showticklabels=False, title=''),\n",
    "        yaxis=dict(showticklabels=False, title=''),\n",
    "        zaxis=dict(showticklabels=False, title=''),\n",
    "    ),\n",
    "    #showlegend=False,\n",
    "    autosize=True,\n",
    "    #width=600,  # Width of the plot\n",
    "    #height=600,  # Height of the plot\n",
    "    margin=dict(l=50, r=50, b=50, t=50, pad=4)  # Margins\n",
    ")\n",
    "fig.show()"
   ]
  },
  {
   "cell_type": "code",
   "execution_count": null,
   "metadata": {},
   "outputs": [],
   "source": []
  }
 ],
 "metadata": {
  "kernelspec": {
   "display_name": "Python 3 (ipykernel)",
   "language": "python",
   "name": "python3"
  },
  "language_info": {
   "codemirror_mode": {
    "name": "ipython",
    "version": 3
   },
   "file_extension": ".py",
   "mimetype": "text/x-python",
   "name": "python",
   "nbconvert_exporter": "python",
   "pygments_lexer": "ipython3",
   "version": "3.10.10"
  }
 },
 "nbformat": 4,
 "nbformat_minor": 2
}
