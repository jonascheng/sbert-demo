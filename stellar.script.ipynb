{
 "cells": [
  {
   "cell_type": "code",
   "execution_count": null,
   "metadata": {},
   "outputs": [],
   "source": [
    "%pip install -r requirements.txt -q"
   ]
  },
  {
   "cell_type": "code",
   "execution_count": 2,
   "metadata": {},
   "outputs": [],
   "source": [
    "import json\n",
    "import numpy as np\n",
    "import plotly.express as px\n",
    "from sentence_transformers import SentenceTransformer\n",
    "from sklearn.manifold import TSNE\n",
    "from pprint import pprint"
   ]
  },
  {
   "cell_type": "code",
   "execution_count": 67,
   "metadata": {},
   "outputs": [
    {
     "name": "stdout",
     "output_type": "stream",
     "text": [
      "array([['process', 'argument', 'parent1', ..., 'parent3argument',\n",
      "        'parent4', 'parent4argument'],\n",
      "       ['C:\\\\Windows\\\\System32\\\\WindowsPowerShell\\\\v1.0\\\\powershell.exe',\n",
      "        \"-ExecutionPolicy Restricted -Command Write-Host 'Final result: 1';\",\n",
      "        'C:\\\\Windows\\\\System32\\\\CompatTelRunner.exe', ..., '', '', ''],\n",
      "       ['C:\\\\Windows\\\\System32\\\\WindowsPowerShell\\\\v1.0\\\\powershell.exe',\n",
      "        \"-ExecutionPolicy Restricted -Command Write-Host 'Final result: 1';\",\n",
      "        'C:\\\\Windows\\\\System32\\\\CompatTelRunner.exe', ..., '', '', ''],\n",
      "       ...,\n",
      "       ['C:\\\\WINDOWS\\\\system32\\\\cscript.exe',\n",
      "        '/Nologo D:\\\\TPGMS\\\\AIDAR1\\\\SupportFiles\\\\CodeSource\\\\DLT_VIEWER\\\\utilities\\\\DLTExecute.vbs D:\\\\TPGMS\\\\AIDAR1\\\\SupportFiles\\\\CodeSource\\\\DLT_VIEWER\\\\dlt_viewer.exe D:\\\\TPGMS\\\\AIDAR1\\\\SupportFiles\\\\CodeSource\\\\DLT_VIEWER\\\\projects\\\\AIDAR1_H1.dlp D:\\\\RESULTS\\\\DLT\\\\1BUH3A10BGAD_H1_20231019_15133.dlt',\n",
      "        'C:\\\\Program Files\\\\National Instruments\\\\TestStand 2017\\\\Bin\\\\SeqEdit.exe',\n",
      "        ..., '', '', ''],\n",
      "       ['C:\\\\WINDOWS\\\\system32\\\\cscript.exe',\n",
      "        '/Nologo D:\\\\TPGMS\\\\AIDAR1\\\\SupportFiles\\\\CodeSource\\\\DLT_VIEWER\\\\utilities\\\\DLTExecute.vbs D:\\\\TPGMS\\\\AIDAR1\\\\SupportFiles\\\\CodeSource\\\\DLT_VIEWER\\\\dlt_viewer.exe D:\\\\TPGMS\\\\AIDAR1\\\\SupportFiles\\\\CodeSource\\\\DLT_VIEWER\\\\projects\\\\AIDAR1_H1.dlp D:\\\\RESULTS\\\\DLT\\\\1BUH3A10BGAD_H1_20231019_15133.dlt',\n",
      "        'C:\\\\Program Files\\\\National Instruments\\\\TestStand 2017\\\\Bin\\\\SeqEdit.exe',\n",
      "        ..., '', '', ''],\n",
      "       ['C:\\\\WINDOWS\\\\system32\\\\cscript.exe',\n",
      "        '/Nologo D:\\\\TPGMS\\\\AIDAR1\\\\SupportFiles\\\\CodeSource\\\\DLT_VIEWER\\\\utilities\\\\DLTExecute.vbs D:\\\\TPGMS\\\\AIDAR1\\\\SupportFiles\\\\CodeSource\\\\DLT_VIEWER\\\\dlt_viewer.exe D:\\\\TPGMS\\\\AIDAR1\\\\SupportFiles\\\\CodeSource\\\\DLT_VIEWER\\\\projects\\\\AIDAR1_H1.dlp D:\\\\RESULTS\\\\DLT\\\\1BUH3A10BGAD_H1_20231019_15133.dlt',\n",
      "        'C:\\\\Program Files\\\\National Instruments\\\\TestStand 2017\\\\Bin\\\\SeqEdit.exe',\n",
      "        ..., '', '', '']], dtype='<U567')\n",
      "(182724, 10)\n"
     ]
    }
   ],
   "source": [
    "# load the csv files with numpy\n",
    "baseline_file = 'assets/d9eaf13e-6aed-11ed-af76-005056b3b165-script-baseline-only-enabled.csv'\n",
    "baseline_data = np.loadtxt(\n",
    "    baseline_file, delimiter=',', dtype=str,\n",
    "    #max_rows=3,\n",
    "    #skiprows=1,\n",
    "    usecols=(2, 3, 4, 5, 6, 7, 8, 9, 10, 11)\n",
    "    )\n",
    "\n",
    "pprint(baseline_data)\n",
    "pprint(baseline_data.shape)\n"
   ]
  },
  {
   "cell_type": "markdown",
   "metadata": {},
   "source": []
  },
  {
   "cell_type": "code",
   "execution_count": 69,
   "metadata": {},
   "outputs": [
    {
     "name": "stdout",
     "output_type": "stream",
     "text": [
      "array([['file', 'parent1', 'parent2', 'parent3'],\n",
      "       ['C:\\\\Windows\\\\SysWOW64\\\\WindowsPowerShell\\\\v1.0\\\\powershell.exe',\n",
      "        'C:\\\\Windows\\\\System32\\\\cmd.exe',\n",
      "        'C:\\\\Program Files\\\\OCS Inventory Agent\\\\OCSInventory.exe',\n",
      "        'C:\\\\Windows\\\\System32\\\\cmd.exe'],\n",
      "       ['C:\\\\Windows\\\\SysWOW64\\\\WindowsPowerShell\\\\v1.0\\\\powershell.exe',\n",
      "        'C:\\\\Windows\\\\System32\\\\cmd.exe',\n",
      "        'C:\\\\Program Files\\\\OCS Inventory Agent\\\\OCSInventory.exe',\n",
      "        '<NA>'],\n",
      "       ['C:\\\\Windows\\\\SysWOW64\\\\WindowsPowerShell\\\\v1.0\\\\powershell.exe',\n",
      "        'C:\\\\Windows\\\\System32\\\\cmd.exe',\n",
      "        'C:\\\\Program Files\\\\OCS Inventory Agent\\\\OCSInventory.exe',\n",
      "        '<NA>'],\n",
      "       ['C:\\\\Windows\\\\SysWOW64\\\\WindowsPowerShell\\\\v1.0\\\\powershell.exe',\n",
      "        'C:\\\\Windows\\\\System32\\\\cmd.exe',\n",
      "        'C:\\\\Program Files\\\\OCS Inventory Agent\\\\OCSInventory.exe',\n",
      "        '<NA>'],\n",
      "       ['C:\\\\Windows\\\\SysWOW64\\\\WindowsPowerShell\\\\v1.0\\\\powershell.exe',\n",
      "        'C:\\\\Windows\\\\System32\\\\cmd.exe',\n",
      "        'C:\\\\Program Files\\\\OCS Inventory Agent\\\\OCSInventory.exe',\n",
      "        '<NA>'],\n",
      "       ['C:\\\\Windows\\\\SysWOW64\\\\WindowsPowerShell\\\\v1.0\\\\powershell.exe',\n",
      "        'C:\\\\Windows\\\\System32\\\\cmd.exe',\n",
      "        'C:\\\\Program Files\\\\OCS Inventory Agent\\\\OCSInventory.exe',\n",
      "        '<NA>'],\n",
      "       ['C:\\\\Windows\\\\SysWOW64\\\\WindowsPowerShell\\\\v1.0\\\\powershell.exe',\n",
      "        'C:\\\\Windows\\\\System32\\\\cmd.exe',\n",
      "        'C:\\\\Program Files\\\\OCS Inventory Agent\\\\OCSInventory.exe',\n",
      "        '<NA>'],\n",
      "       ['C:\\\\Windows\\\\SysWOW64\\\\WindowsPowerShell\\\\v1.0\\\\powershell.exe',\n",
      "        'C:\\\\Windows\\\\System32\\\\cmd.exe',\n",
      "        'C:\\\\Program Files\\\\OCS Inventory Agent\\\\OCSInventory.exe',\n",
      "        '<NA>'],\n",
      "       ['C:\\\\Windows\\\\SysWOW64\\\\WindowsPowerShell\\\\v1.0\\\\powershell.exe',\n",
      "        'C:\\\\Windows\\\\System32\\\\cmd.exe',\n",
      "        'C:\\\\Program Files\\\\OCS Inventory Agent\\\\OCSInventory.exe',\n",
      "        '<NA>']], dtype='<U57')\n",
      "(10, 4)\n"
     ]
    }
   ],
   "source": [
    "alert_file = 'assets/d9eaf13e-6aed-11ed-af76-005056b3b165-script-alerts.csv'\n",
    "alert_data = np.loadtxt(\n",
    "    alert_file, delimiter=',', dtype=str,\n",
    "    max_rows=10,\n",
    "    #skiprows=1,\n",
    "    usecols=(1, 3, 4, 5)\n",
    "    )\n",
    "\n",
    "# # switch the columns vendorname and productname\n",
    "# alert_data[:, 1], alert_data[:, 2] = alert_data[:, 2], alert_data[:, 1].copy()\n",
    "\n",
    "# # rename file to path, productname to appname, vendorname to vendor\n",
    "# alert_data[:, 0] = np.char.replace(alert_data[:, 0], 'file', 'path')\n",
    "# alert_data[:, 1] = np.char.replace(alert_data[:, 1], 'productname', 'appname')\n",
    "# alert_data[:, 2] = np.char.replace(alert_data[:, 2], 'vendorname', 'vendor')\n",
    "\n",
    "pprint(alert_data)\n",
    "pprint(alert_data.shape)"
   ]
  },
  {
   "cell_type": "code",
   "execution_count": null,
   "metadata": {},
   "outputs": [],
   "source": [
    "# normalize the data by lowercasing and removing punctuation\n",
    "def normalize_data(data):\n",
    "    return np.array([[\n",
    "        x[0].lower().replace('.', '').replace(',', ''),\n",
    "        x[1].lower().replace('.', '').replace(',', ''),\n",
    "        x[2].lower().replace('.', '').replace(',', '')\n",
    "    ] for x in data])\n",
    "\n",
    "baseline_data = normalize_data(baseline_data)\n",
    "pprint(baseline_data)\n",
    "\n",
    "alert_data = normalize_data(alert_data)\n",
    "pprint(alert_data)"
   ]
  },
  {
   "cell_type": "code",
   "execution_count": null,
   "metadata": {},
   "outputs": [],
   "source": [
    "# concatenate 3 columns into 1 column\n",
    "flat_baseline_data = np.array([' '.join(x) for x in baseline_data])\n",
    "flat_alert_data = np.array([' '.join(x) for x in alert_data])\n",
    "\n",
    "# take only the first column\n",
    "# flat_baseline_data = baseline_data[:, 0]\n",
    "# flat_alert_data = alert_data[:, 0]\n",
    "\n",
    "pprint(flat_baseline_data.shape)\n",
    "pprint(flat_alert_data.shape)\n",
    "\n",
    "# remove duplicates\n",
    "flat_baseline_data = np.unique(flat_baseline_data)\n",
    "flat_alert_data = np.unique(flat_alert_data)\n",
    "\n",
    "pprint(flat_baseline_data.shape)\n",
    "pprint(flat_alert_data.shape)"
   ]
  },
  {
   "cell_type": "code",
   "execution_count": null,
   "metadata": {},
   "outputs": [],
   "source": [
    "# Load the pre-trained model\n",
    "model = SentenceTransformer('all-MiniLM-L6-v2')\n"
   ]
  },
  {
   "cell_type": "code",
   "execution_count": null,
   "metadata": {},
   "outputs": [],
   "source": [
    "baseline_embeddings = model.encode(flat_baseline_data)\n",
    "alert_embeddings = model.encode(flat_alert_data)\n",
    "\n",
    "pprint(baseline_embeddings.shape)\n",
    "pprint(alert_embeddings.shape)\n",
    "\n",
    "# combine embeddings in single array\n",
    "embeddings = np.concatenate((baseline_embeddings, alert_embeddings))\n"
   ]
  },
  {
   "cell_type": "code",
   "execution_count": null,
   "metadata": {},
   "outputs": [],
   "source": [
    "# Perform TSNE to reduce to 3 components\n",
    "tsne_model = TSNE(n_components=3, random_state=42)\n",
    "tsne_embeddings_values = tsne_model.fit_transform(embeddings)\n",
    "\n",
    "hover_names = []\n",
    "colors = []\n",
    "\n",
    "# baseline data\n",
    "for baseline in flat_baseline_data:\n",
    "    hover_names.append(baseline)\n",
    "    colors.append('baseline')\n",
    "# alert data\n",
    "for alert in flat_alert_data:\n",
    "    hover_names.append(alert)\n",
    "    colors.append('alert')\n",
    "\n",
    "fig = px.scatter_3d(\n",
    "    x = tsne_embeddings_values[:,0],\n",
    "    y = tsne_embeddings_values[:,1],\n",
    "    z = tsne_embeddings_values[:,2],\n",
    "    hover_name=hover_names,\n",
    "    color = colors,\n",
    ")\n",
    "\n",
    "fig.update_traces(marker=dict(size=3))  # Increase the marker size uniformly\n",
    "\n",
    "fig.update_layout(\n",
    "    scene=dict(\n",
    "        xaxis=dict(showticklabels=False, title=''),\n",
    "        yaxis=dict(showticklabels=False, title=''),\n",
    "        zaxis=dict(showticklabels=False, title=''),\n",
    "    ),\n",
    "    #showlegend=False,\n",
    "    autosize=True,\n",
    "    #width=600,  # Width of the plot\n",
    "    #height=600,  # Height of the plot\n",
    "    margin=dict(l=50, r=50, b=50, t=50, pad=4)  # Margins\n",
    ")\n",
    "fig.show()"
   ]
  },
  {
   "cell_type": "code",
   "execution_count": null,
   "metadata": {},
   "outputs": [],
   "source": []
  }
 ],
 "metadata": {
  "kernelspec": {
   "display_name": "Python 3 (ipykernel)",
   "language": "python",
   "name": "python3"
  }
 },
 "nbformat": 4,
 "nbformat_minor": 2
}
