{
 "cells": [
  {
   "cell_type": "code",
   "execution_count": null,
   "metadata": {},
   "outputs": [],
   "source": [
    "%pip install -r requirements.txt"
   ]
  },
  {
   "cell_type": "code",
   "execution_count": null,
   "metadata": {},
   "outputs": [],
   "source": [
    "import json\n",
    "import numpy as np\n",
    "import plotly.express as px\n",
    "from sentence_transformers import SentenceTransformer\n",
    "from sklearn.manifold import TSNE\n",
    "import chromadb\n",
    "from pprint import pprint"
   ]
  },
  {
   "cell_type": "code",
   "execution_count": null,
   "metadata": {},
   "outputs": [],
   "source": [
    "# load the sample data\n",
    "# with open('assets/posts.json', 'r') as f:\n",
    "with open('assets/gd.json', 'r') as f:\n",
    "    posts = json.load(f)\n",
    "\n",
    "# Load the pre-trained model\n",
    "modelPath = 'models/all-MiniLM-L6-v2/'\n",
    "model = SentenceTransformer('all-MiniLM-L6-v2')\n",
    "model.save(modelPath)\n",
    "model= SentenceTransformer(modelPath)"
   ]
  },
  {
   "cell_type": "code",
   "execution_count": null,
   "metadata": {},
   "outputs": [],
   "source": [
    "def vectorize_data(text):\n",
    "    # tokenize the text by space\n",
    "    tokens = text.split(' ')\n",
    "    # get the embeddings of the tokens\n",
    "    embeddings = model.encode(tokens)\n",
    "    # sum the embeddings to get the sentence embedding\n",
    "    return np.sum(embeddings, axis=0)\n",
    "\n",
    "# get embeddings per topic\n",
    "j_embeddings = {}\n",
    "for topic, v in posts.items():\n",
    "    for post in v:\n",
    "        if topic not in j_embeddings:\n",
    "            # first numpy.ndarrry\n",
    "            j_embeddings[topic] = vectorize_data(post)\n",
    "        else:\n",
    "            # 2nd numpy.ndarray and so on\n",
    "            j_embeddings[topic] = np.vstack((j_embeddings[topic], vectorize_data(post)))\n"
   ]
  },
  {
   "cell_type": "code",
   "execution_count": null,
   "metadata": {},
   "outputs": [],
   "source": [
    "# combine embeddings in single array\n",
    "# topics = [\"apple\", \"ai\", \"3dprinting\", \"bioinformatics\", \"beer\"]\n",
    "topics = [\"svchost.exe\", \"wscript.exe\", \"msiexec.exe\", \"tiworker.exe\"]\n",
    "embeddings = np.vstack((j_embeddings[topics[0]], j_embeddings[topics[1]]))\n",
    "for topic in topics[2:]:\n",
    "    embeddings = np.vstack((embeddings, j_embeddings[topic]))"
   ]
  },
  {
   "cell_type": "code",
   "execution_count": null,
   "metadata": {},
   "outputs": [],
   "source": [
    "# Perform TSNE to reduce to 3 components\n",
    "tsne_model = TSNE(n_components=3, random_state=42)\n",
    "tsne_embeddings_values = tsne_model.fit_transform(embeddings)\n",
    "\n",
    "num_elements_per_topic = 51\n",
    "num_topics = int(embeddings.shape[0]/num_elements_per_topic)\n",
    "\n",
    "col_topics = [element for element in topics for _ in range(num_elements_per_topic)]\n",
    "\n",
    "fig = px.scatter_3d(\n",
    "    x = tsne_embeddings_values[:,0],\n",
    "    y = tsne_embeddings_values[:,1],\n",
    "    z = tsne_embeddings_values[:,2],\n",
    "    color = col_topics,\n",
    ")\n",
    "\n",
    "fig.update_traces(marker=dict(size=13))  # Increase the marker size uniformly\n",
    "\n",
    "fig.update_layout(\n",
    "    scene=dict(\n",
    "        xaxis=dict(showticklabels=False, title=''),\n",
    "        yaxis=dict(showticklabels=False, title=''),\n",
    "        zaxis=dict(showticklabels=False, title=''),\n",
    "    ),\n",
    "    #showlegend=False,\n",
    "    autosize=False,\n",
    "    #width=600,  # Width of the plot\n",
    "    #height=600,  # Height of the plot\n",
    "    margin=dict(l=50, r=50, b=50, t=50, pad=4)  # Margins\n",
    ")\n",
    "fig.show()"
   ]
  },
  {
   "cell_type": "code",
   "execution_count": null,
   "metadata": {},
   "outputs": [],
   "source": [
    "# setup vector database\n",
    "\n",
    "client = chromadb.PersistentClient(\n",
    "    path='chromadb'\n",
    ")\n",
    "\n",
    "collection_name = \"process-baseline-tokenized\"\n",
    "\n",
    "try:\n",
    "    client.delete_collection(name=collection_name)\n",
    "    print(f\"COLLECTION {collection_name} DELETED\")\n",
    "except:\n",
    "    print(f\"COLLECTION {collection_name} DIDNT EXIST YET\")\n",
    "\n",
    "collection = client.create_collection(\n",
    "      name=collection_name,\n",
    "      metadata={\"hnsw:space\": \"cosine\"}\n",
    "  )"
   ]
  },
  {
   "cell_type": "code",
   "execution_count": null,
   "metadata": {},
   "outputs": [],
   "source": [
    "# fill vector database\n",
    "for k in j_embeddings.keys():\n",
    "    print(f\"Add stuff for topic {k}\")\n",
    "    collection.add(\n",
    "        embeddings = j_embeddings[k],\n",
    "        documents=posts[k],\n",
    "        metadatas=[{\"topic\": k}]*num_elements_per_topic,\n",
    "        ids=[f\"{i:02}__{k}\" for i in range(num_elements_per_topic)],\n",
    "    )"
   ]
  },
  {
   "cell_type": "code",
   "execution_count": null,
   "metadata": {},
   "outputs": [],
   "source": [
    "# open from persistent storage\n",
    "client = chromadb.PersistentClient(\n",
    "    path='chromadb'\n",
    ")\n",
    "\n",
    "collection_names = client.list_collections()\n",
    "pprint(collection_names)\n",
    "\n",
    "collection = client.get_collection(name=collection_name)\n",
    "collection.get()"
   ]
  },
  {
   "cell_type": "code",
   "execution_count": null,
   "metadata": {},
   "outputs": [],
   "source": [
    "query_texts=[\n",
    "    \"C:\\\\Windows\\\\System32\\\\MsiExec.exe /Y C:\\\\WINDOWS\\\\CCM\\\\ContentAccess_ps.dll -variant 50\",\n",
    "    \"c:\\\\$windows.~bt\\\\sources\\\\setuphost.exe\",\n",
    "    \"C:\\\\WINDOWS\\\\System32\\\\msiexec.exe /i C:\\\\Users\\\\sistemas\\\\Downloads\\\\zabbix_agent-6.4.15-windows-amd64-openssl.msi\"\n",
    "]\n",
    "\n",
    "embeddings = None\n",
    "for q in query_texts:\n",
    "    if embeddings is None:\n",
    "        embeddings = vectorize_data(q)\n",
    "    else:\n",
    "        embeddings = np.vstack((embeddings, vectorize_data(q)))\n",
    "\n",
    "results = collection.query(\n",
    "    query_embeddings=embeddings,\n",
    "    n_results=5,\n",
    ")\n",
    "\n",
    "pprint(results)"
   ]
  },
  {
   "cell_type": "code",
   "execution_count": null,
   "metadata": {},
   "outputs": [],
   "source": []
  }
 ],
 "metadata": {
  "kernelspec": {
   "display_name": "Python 3 (ipykernel)",
   "language": "python",
   "name": "python3"
  },
  "language_info": {
   "codemirror_mode": {
    "name": "ipython",
    "version": 3
   },
   "file_extension": ".py",
   "mimetype": "text/x-python",
   "name": "python",
   "nbconvert_exporter": "python",
   "pygments_lexer": "ipython3",
   "version": "3.10.10"
  }
 },
 "nbformat": 4,
 "nbformat_minor": 4
}
